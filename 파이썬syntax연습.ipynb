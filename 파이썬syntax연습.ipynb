{
 "cells": [
  {
   "attachments": {},
   "cell_type": "markdown",
   "metadata": {},
   "source": [
    "# 자료형\n",
    "\n",
    "string = 'Hello World' -> 문자열, 따옴표가 들어있음<br>\n",
    "integer = 123 -> 정수<br>\n",
    "float = 3.14 -> 실수, 소숫점 포함<br>\n",
    "boolean = True -> 불린, True나 False만 존재, True는 1, False는 0<br>\n",
    "none = None -> 말그대로 아무것도 아님<br>\n",
    "<br>\n",
    "반복가능한 자료형들 -> for문에서 사용가능, 앞에서부터 순서대로 나옴<br>\n",
    "list = [1, 2, 3] -> 대괄호로 표현, 내부 값 수정 가능<br>\n",
    "tuple = (1, 2, 3) -> 소괄호로 표현, 내부 값 수정 불가<br>\n",
    "dictionary = {'a': 1, 'b': 2} -> 중괄호로 표현, :을 기준으로 앞이 키 뒤가 값임 <br>"
   ]
  },
  {
   "cell_type": "code",
   "execution_count": null,
   "metadata": {},
   "outputs": [],
   "source": []
  },
  {
   "attachments": {},
   "cell_type": "markdown",
   "metadata": {},
   "source": [
    "# 입력받기\n",
    "\n",
    "input() -> 입력받기, 문자열로 입력받음<br>\n",
    "int(input()) -> 입력받은 값을 정수로 변환<br>\n",
    "float(input()) -> 입력받은 값을 실수로 변환<br>\n",
    "\n",
    "\n",
    "# 출력하기\n",
    "print() -> 출력하기, 문자열로 출력<br>"
   ]
  },
  {
   "attachments": {},
   "cell_type": "markdown",
   "metadata": {},
   "source": [
    "x를 입력받아 x를 2로 나눈 몫을 출력하는 프로그램을 작성하시오."
   ]
  },
  {
   "cell_type": "code",
   "execution_count": 8,
   "metadata": {},
   "outputs": [],
   "source": [
    "#code here\n"
   ]
  },
  {
   "attachments": {},
   "cell_type": "markdown",
   "metadata": {},
   "source": [
    "# if문\n",
    "\n",
    "```python\n",
    "if 조건1: # 만약 조건1이 참이면\n",
    "    실행할 코드\n",
    "elif 조건2: # 만약 조건1이 거짓이고 조건2가 참이면\n",
    "    실행할 코드\n",
    "else: # 위의 조건들이 모두 거짓이면\n",
    "    실행할 코드\n",
    "```"
   ]
  },
  {
   "attachments": {},
   "cell_type": "markdown",
   "metadata": {},
   "source": [
    "x를 입력받고, 만약 x가 10이면 \"10입니다\"를 출력하고, 10이 아니면 \"10이 아닙니다\"를 출력하는 프로그램을 만드세요."
   ]
  },
  {
   "cell_type": "code",
   "execution_count": 7,
   "metadata": {},
   "outputs": [],
   "source": [
    "#code here\n"
   ]
  },
  {
   "attachments": {},
   "cell_type": "markdown",
   "metadata": {},
   "source": [
    "# for문\n",
    "\n",
    "```python\n",
    "for i in range(10): # range(10)은 0부터 9까지의 숫자를 의미함\n",
    "    print(i) # 0부터 9까지 출력됨\n",
    "\n",
    "for i in range(1, 10): # range(1, 10)은 1부터 9까지의 숫자를 의미함\n",
    "    print(i) # 1부터 9까지 출력됨\n",
    "\n",
    "for i in range(1, 10, 2): # range(1, 10, 2)는 1부터 9까지의 숫자를 의미하며, 2씩 증가함\n",
    "    print(i) # 1, 3, 5, 7, 9가 출력됨\n",
    "\n",
    "for i in range(10, 1, -1): # range(10, 1, -1)는 10부터 2까지의 숫자를 의미하며, 1씩 감소함\n",
    "    print(i) # 10, 9, 8, 7, 6, 5, 4, 3, 2가 출력됨\n",
    "\n",
    "for i in range(10, 1, -2): # range(10, 1, -2)는 10부터 2까지의 숫자를 의미하며, 2씩 감소함\n",
    "    print(i) # 10, 8, 6, 4, 2가 출력됨\n",
    "```\n"
   ]
  },
  {
   "attachments": {},
   "cell_type": "markdown",
   "metadata": {},
   "source": [
    "1 부터 입력받은 숫자까지 더한 값을 출력하는 프로그램을 작성하시오."
   ]
  },
  {
   "cell_type": "code",
   "execution_count": 6,
   "metadata": {},
   "outputs": [],
   "source": [
    "#code here\n"
   ]
  },
  {
   "attachments": {},
   "cell_type": "markdown",
   "metadata": {},
   "source": [
    "# while문\n",
    "\n",
    "```python\n",
    "i = 0\n",
    "while i < 10: # i가 10보다 작을 때까지 반복\n",
    "    print(i) # 0부터 9까지 출력됨\n",
    "    i += 1 # i에 1을 더함\n",
    "\n",
    "i=0\n",
    "while True: # 무한반복\n",
    "    print(i) # 0부터 무한대로 출력됨\n",
    "    i += 1 # i에 1을 더함\n",
    "    if i == 10: # i가 10이 되면\n",
    "        break # 반복문을 끝냄\n",
    "```\n"
   ]
  },
  {
   "attachments": {},
   "cell_type": "markdown",
   "metadata": {},
   "source": [
    "1부터 입력받은 숫자까지의 짝수의 합을 출력하는 프로그램을 작성하시오."
   ]
  },
  {
   "cell_type": "code",
   "execution_count": 4,
   "metadata": {},
   "outputs": [],
   "source": [
    "#code here\n"
   ]
  },
  {
   "attachments": {},
   "cell_type": "markdown",
   "metadata": {},
   "source": [
    "# 이중 반복문\n",
    "\n",
    "```python\n",
    "for i in range(10): # 0부터 9까지 반복\n",
    "    for j in range(10): # 0부터 9까지 반복\n",
    "        print(i, j) # i와 j를 출력\n",
    "    print('=============') # 구분을 위한 출력\n",
    "```"
   ]
  },
  {
   "attachments": {},
   "cell_type": "markdown",
   "metadata": {},
   "source": [
    "이중 반복문을 이해한 후 구구단을 2단부터 9단까지 출력하는 프로그램을 작성하시오."
   ]
  },
  {
   "cell_type": "code",
   "execution_count": 10,
   "metadata": {},
   "outputs": [],
   "source": [
    "# code here\n"
   ]
  },
  {
   "attachments": {},
   "cell_type": "markdown",
   "metadata": {},
   "source": [
    "<출력 결과>\n",
    "```\n",
    "2 * 1 = 2\n",
    "2 * 2 = 4\n",
    "2 * 3 = 6\n",
    "...         #생략\n",
    "9 * 8 = 72\n",
    "9 * 9 = 81\n",
    "```"
   ]
  },
  {
   "cell_type": "code",
   "execution_count": null,
   "metadata": {},
   "outputs": [],
   "source": []
  }
 ],
 "metadata": {
  "kernelspec": {
   "display_name": "Python 3",
   "language": "python",
   "name": "python3"
  },
  "language_info": {
   "codemirror_mode": {
    "name": "ipython",
    "version": 3
   },
   "file_extension": ".py",
   "mimetype": "text/x-python",
   "name": "python",
   "nbconvert_exporter": "python",
   "pygments_lexer": "ipython3",
   "version": "3.11.1"
  },
  "orig_nbformat": 4
 },
 "nbformat": 4,
 "nbformat_minor": 2
}
