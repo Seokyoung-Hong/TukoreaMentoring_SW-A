{
 "cells": [
  {
   "attachments": {},
   "cell_type": "markdown",
   "metadata": {},
   "source": [
    "# 중간고사 review"
   ]
  },
  {
   "attachments": {},
   "cell_type": "markdown",
   "metadata": {},
   "source": [
    "### 1. (3점) \n",
    "입력 받은 세 정수의 공약수를 리스트로 만들어 아래와 같이 출력하는 프로그램을완성하시오.   \n",
    "단, list comprehension의 괄호 안에만 코드를 작성하기 바람.   \n",
    "(힌트) a의 약수는 a를 b로 나누었을 때 나머지가 0이 되는 b를 의미한다. \n",
    "\n",
    "<실행 결과 >\n",
    "\n",
    "enter 3 integers:120 140 200 <enter>\n",
    " \n",
    "[1, 2, 4, 5, 10, 20]"
   ]
  },
  {
   "cell_type": "code",
   "execution_count": 24,
   "metadata": {},
   "outputs": [
    {
     "name": "stdout",
     "output_type": "stream",
     "text": [
      "[1, 2, 4, 5, 10, 20]\n"
     ]
    }
   ],
   "source": [
    "# 답안작성 셀\n",
    "a, b, c = map(int, input(\"enter 3 integers:\").split()) \n",
    "cdiv = [  ] \n",
    "print(cdiv)"
   ]
  },
  {
   "attachments": {},
   "cell_type": "markdown",
   "metadata": {},
   "source": [
    "### 2. (5점) 띠 맞추기\n",
    "생년월일을 “YYYYMMDD” 형태로 입력 받아, 입력된 사람의 띠를 출력하라. 단, 띠는 다음 순서로 부여된다. 쥐소범토용뱀말양원닭개돼 음력을 고려하여, 3월1일을 기준으로 새로운 띠가 주어진다고 가정한다. 참고로, 2021.3.1~2022.2.28까지 출생한 사람은 소띠, 2022.3.1 ~ 2023.2.28에 태어난 사람은 범띠이다. \n",
    "\n",
    "(hint) 띠는 12개이므로, 12개의 문자열을 원소로 갖는 리스트를 만들고, 입력된 년도를 12로 나눈 나머지를 인덱스로 사용하여 띠를 출력하면 된다.\n",
    "\n",
    "<실행 화면1>   \n",
    "주민번호를 입력하시오:20011223 <enter>    \n",
    "뱀   <enter>      \n",
    "주민번호를 입력하시오:19690424 <enter>   \n",
    "개   <enter> "
   ]
  },
  {
   "cell_type": "code",
   "execution_count": null,
   "metadata": {},
   "outputs": [],
   "source": []
  },
  {
   "attachments": {},
   "cell_type": "markdown",
   "metadata": {},
   "source": [
    "### 3. (5점) 369 게임\n",
    "아래의 실행결과 같이 입력된 양의정수까지 369 게임의 진행결과를 출력하려고 한다. \n",
    "현재 숫자 중에 3,6,9가 포함되어 있으면 포함된 수 만큼 '짝'을 출력하고,\n",
    "그렇지 않으면 그 현재 숫자를 출력하여 입력된 숫자까지 출력한다.  \n",
    "(힌트)해당 수를 문자열로 바꾸어, 그 안에 포함된 3,6,9의 갯수를 계산하여 처리한다. <br>\n",
    "temp = '36' <br>\n",
    "temp.count('3') # 1 <br>\n",
    "temp.count('6') # 1 <br>\n",
    "<br>\n",
    "<실행예>  \n",
    "369게임의 최대정수값을 입력하시오:  40 <enter>   \n",
    "    \n",
    "1 2 짝 4 5 짝 7 8 짝 10 11 12 짝 14 15 짝 17 18 짝 20 21 22 짝 24 25 짝 27 28 짝 짝 짝 짝 짝짝 짝 짝 짝짝 짝 짝 짝짝 40"
   ]
  },
  {
   "cell_type": "code",
   "execution_count": null,
   "metadata": {},
   "outputs": [],
   "source": []
  },
  {
   "attachments": {},
   "cell_type": "markdown",
   "metadata": {},
   "source": [
    "### 4. (5점) 솟수의 합 \n",
    "입력된 숫자보다 작은 솟수의 합을 출력하라.예를 들면, 10보다 작은 솟수는 2,3,5,7이므로, 이 숫자의 합인 (2+3+5+7)=17을 출력한다.   \n",
    "(힌트) n이 솟수가 되려면, 2~(n-1)의 수로 나누어 떨어지지 않아야 한다. <br>\n",
    "4%2 = 0, 4%3 = 1, 4%4 = 0 <br>\n",
    "\n",
    "<실행예1> \n",
    "양의 정수를 입력하시오: 10<enter>  \n",
    "17  \n",
    "<실행예2>       \n",
    "양의 정수를 입력하시오: 20<enter>     \n",
    "77    "
   ]
  },
  {
   "cell_type": "code",
   "execution_count": null,
   "metadata": {},
   "outputs": [],
   "source": []
  },
  {
   "attachments": {},
   "cell_type": "markdown",
   "metadata": {},
   "source": [
    "### 5. (5점) 사전의 이용\n",
    "영어와 한글의 숫자에 다음과 같은 대응관계가 있다고 가정하고, 이를\n",
    "딕셔너리(사전)변수 d에 표현하라. 그리고, 이를 이용하여 다음 문장에서\n",
    "해당하는 영어 단어가 나오면 이를 한글로 변경하여 출력하라.   \n",
    "one = '일', two = '이', three = '삼', four = '사', five = '오'\n",
    "\n",
    "(hint) <br>\n",
    "temp = 'one' <br>\n",
    "temp.replace('one', '일') -> '일' (단, temp는 여전히 'one'임) <br>\n",
    "\n",
    "<실행결과>  \n",
    "one + two = three -> 일 + 이 = 삼  \n",
    "five - one = four -> 오 - 일 = 사  "
   ]
  },
  {
   "cell_type": "code",
   "execution_count": null,
   "metadata": {},
   "outputs": [],
   "source": []
  },
  {
   "attachments": {},
   "cell_type": "markdown",
   "metadata": {},
   "source": [
    "# 잔돈 계산하기\n",
    "금액을 입력받고 입력받은 금액을 그대로 반환할 경우 필요한 500원, 100원의 개수를 출력하세요. <br>\n",
    "단, 500원, 100원의 개수가 최소가 되도록 하라."
   ]
  },
  {
   "attachments": {},
   "cell_type": "markdown",
   "metadata": {},
   "source": [
    "(입력) 3800 <br>\n",
    "(출력) 500원: 7개, 100원: 3개"
   ]
  },
  {
   "cell_type": "code",
   "execution_count": null,
   "metadata": {},
   "outputs": [],
   "source": []
  }
 ],
 "metadata": {
  "kernelspec": {
   "display_name": "Python 3",
   "language": "python",
   "name": "python3"
  },
  "language_info": {
   "codemirror_mode": {
    "name": "ipython",
    "version": 3
   },
   "file_extension": ".py",
   "mimetype": "text/x-python",
   "name": "python",
   "nbconvert_exporter": "python",
   "pygments_lexer": "ipython3",
   "version": "3.11.1"
  },
  "orig_nbformat": 4
 },
 "nbformat": 4,
 "nbformat_minor": 2
}
