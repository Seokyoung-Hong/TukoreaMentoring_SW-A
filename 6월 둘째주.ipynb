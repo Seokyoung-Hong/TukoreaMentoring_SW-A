{
 "cells": [
  {
   "attachments": {},
   "cell_type": "markdown",
   "metadata": {},
   "source": [
    "# 함수 사용 연습"
   ]
  },
  {
   "attachments": {},
   "cell_type": "markdown",
   "metadata": {},
   "source": [
    "### 사전에 작성된 코드를 건드리지 않고, 함수 작성만을 통해 문제를 해결하세요."
   ]
  },
  {
   "attachments": {},
   "cell_type": "markdown",
   "metadata": {},
   "source": [
    "1. 1부터 100까지의 숫자 배열을 반환하는 함수를 작성하세요.\n",
    "2. 1부터 100까지의 숫자 배열 중, 3의 배수만을 반환하는 함수를 작성하세요. 단, 1번에서 작성한 함수를 사용하세요.\n",
    "\n",
    "빈칸은 여러줄을 작성해도 상관 없습니다.\n",
    "```python\n",
    "def one_to_x(x):\n",
    "    #빈칸\n",
    "def three_times(one_to_100):\n",
    "    #빈칸\n",
    "end = 100\n",
    "print(one_to_x(end))\n",
    "print(three_times(빈칸))\n",
    "```\n",
    "output:\n",
    "```python\n",
    "[1,2,3,4,5,6,7,8,9,10, ... , 99, 100]\n",
    "[3,6,9,12,15,18,21,24,27,30, ... , 90, 93, 96, 99]\n",
    "```"
   ]
  },
  {
   "cell_type": "code",
   "execution_count": null,
   "metadata": {},
   "outputs": [],
   "source": [
    "def one_to_x(x):\n",
    "    #빈칸\n",
    "def three_times(one_to_100):\n",
    "    #빈칸\n",
    "end = 100\n",
    "print(one_to_x(end))\n",
    "print(three_times(빈칸))"
   ]
  },
  {
   "attachments": {},
   "cell_type": "markdown",
   "metadata": {},
   "source": [
    "# 람다 함수 사용 연습\n",
    "### 사전에 작성된 코드를 건드리지 않고, 람다 함수 작성만을 통해 문제를 해결하세요."
   ]
  },
  {
   "attachments": {},
   "cell_type": "markdown",
   "metadata": {},
   "source": [
    "#### 1부터 100까지의 숫자 배열 중, 3의 배수만을 출력하도록 하세요.\n",
    "Hint: filter, lambda를 사용할 수 있습니다.\n",
    "<https://edu.dojang.io/mod/page/view.php?id=3060>\n",
    "\n",
    "```python\n",
    "print(list(빈칸))\n",
    "```"
   ]
  },
  {
   "cell_type": "code",
   "execution_count": 11,
   "metadata": {},
   "outputs": [
    {
     "name": "stdout",
     "output_type": "stream",
     "text": [
      "[3, 6, 9, 12, 15, 18, 21, 24, 27, 30, 33, 36, 39, 42, 45, 48, 51, 54, 57, 60, 63, 66, 69, 72, 75, 78, 81, 84, 87, 90, 93, 96, 99]\n"
     ]
    }
   ],
   "source": [
    "print(list(빈칸))"
   ]
  },
  {
   "attachments": {},
   "cell_type": "markdown",
   "metadata": {},
   "source": [
    "# 정규표현식\n",
    "\n",
    "정규표현식을 통해 우리는 문자열을 쉽게 컨트롤 할 수 있습니다.\n",
    "\n",
    "정규 표현식에는 3가지 기능이 있습니다.\n",
    "1. 찾기 : re.search(), re.match(), re.findall()\n",
    "2. 묶기 : re.split()\n",
    "3. 바꾸기 : re.sub()"
   ]
  },
  {
   "cell_type": "code",
   "execution_count": 41,
   "metadata": {},
   "outputs": [],
   "source": []
  },
  {
   "attachments": {},
   "cell_type": "markdown",
   "metadata": {},
   "source": [
    "# 모듈"
   ]
  },
  {
   "attachments": {},
   "cell_type": "markdown",
   "metadata": {},
   "source": [
    "우리는 정규표현식을 사용하기 위해 <br>\n",
    "import re<br>를 코드 가장 위에 작성했습니다. <br><br>\n",
    "\n",
    "이는 re.py라는 파이썬 파일을 불러와서 사용한다는 의미입니다. <br>\n",
    "re.py라는 파일이 어디에 있냐면, 파이썬이 설치된 폴더에 있습니다. <br>\n",
    "즉, import 라는 명령어를 사용하면 파이썬이 설치된 폴더나 파일이 작성된 폴더에서 해당 파일을 찾아서 불러옵니다.<br>"
   ]
  },
  {
   "attachments": {},
   "cell_type": "markdown",
   "metadata": {},
   "source": [
    "이번에는 우리가 직접 모듈을 만들어서 사용해보겠습니다.<br>\n",
    "모듈을 만들기 위해서는 다음과 같은 과정이 필요합니다.<br>\n",
    "\n",
    "1. 모듈을 만들고자 하는 파일을 작성합니다.\n",
    "2. 모듈을 불러오고자 하는 파일에서 import를 사용하여 모듈을 불러옵니다."
   ]
  },
  {
   "attachments": {},
   "cell_type": "markdown",
   "metadata": {},
   "source": [
    "1. 모듈을 만들고자 하는 파일을 작성합니다.<br>\n",
    "testing.py이라는 파일을 지금 이 파일과 같은 폴더에 만들고, 다음과 같이 작성합니다.<br>\n",
    "\n",
    "```python\n",
    "def print_hello():\n",
    "    print(\"hello\")\n",
    "```"
   ]
  },
  {
   "attachments": {},
   "cell_type": "markdown",
   "metadata": {},
   "source": [
    "2. 모듈을 불러오고자 하는 파일에서 testing.py를 사용하여 모듈을 불러옵니다.<br>\n",
    "다음과 같이 작성합니다.<br>\n",
    "\n",
    "```python\n",
    "import testing\n",
    "testing.print_hello()\n",
    "```"
   ]
  },
  {
   "cell_type": "code",
   "execution_count": 4,
   "metadata": {},
   "outputs": [
    {
     "name": "stdout",
     "output_type": "stream",
     "text": [
      "hello\n"
     ]
    }
   ],
   "source": [
    "import testing\n",
    "testing.print_hello()"
   ]
  },
  {
   "attachments": {},
   "cell_type": "markdown",
   "metadata": {},
   "source": [
    "방금 우리는\n",
    "testing이라는 파일의 print_hello() 라는 함수를\n",
    "testing \".\" print_hello()라는 방식으로 사용했습니다.<br>\n",
    "\n",
    "즉, . 을 사용하면 파일의 함수나 변수를 사용할 수 있습니다.<br>\n",
    "\n",
    "file_name.class_name.function_name() 이나 file_name.function_name()과 같은 방식으로 사용할 수 있습니다.<br>\n",
    "마찬가지로 <br>\n",
    "file_name.class_name.variable_name 이나 file_name.variable_name과 같은 방식으로 변수를 사용할 수 있습니다.<br>"
   ]
  },
  {
   "attachments": {},
   "cell_type": "markdown",
   "metadata": {},
   "source": [
    "이제 importing_test.py를 열어보고, 해당 파일에 있는 변수의 값을 출력하는 것은 물론이고,\n",
    "함수를 실행하고, 클래스를 사용해보세요.<br>"
   ]
  },
  {
   "cell_type": "code",
   "execution_count": 5,
   "metadata": {},
   "outputs": [],
   "source": [
    "# code here"
   ]
  }
 ],
 "metadata": {
  "kernelspec": {
   "display_name": "Python 3",
   "language": "python",
   "name": "python3"
  },
  "language_info": {
   "codemirror_mode": {
    "name": "ipython",
    "version": 3
   },
   "file_extension": ".py",
   "mimetype": "text/x-python",
   "name": "python",
   "nbconvert_exporter": "python",
   "pygments_lexer": "ipython3",
   "version": "3.11.1"
  },
  "orig_nbformat": 4
 },
 "nbformat": 4,
 "nbformat_minor": 2
}
