{
 "cells": [
  {
   "attachments": {},
   "cell_type": "markdown",
   "metadata": {},
   "source": [
    "# 함수 사용 연습"
   ]
  },
  {
   "attachments": {},
   "cell_type": "markdown",
   "metadata": {},
   "source": [
    "### 사전에 작성된 코드를 건드리지 않고, 함수 작성만을 통해 문제를 해결하세요."
   ]
  },
  {
   "attachments": {},
   "cell_type": "markdown",
   "metadata": {},
   "source": [
    "1. 1부터 100까지의 숫자 배열을 반환하는 함수를 작성하세요.\n",
    "2. 1부터 100까지의 숫자 배열 중, 3의 배수만을 반환하는 함수를 작성하세요. 단, 1번에서 작성한 함수를 사용하세요.\n",
    "\n",
    "빈칸은 여러줄을 작성해도 상관 없습니다.\n",
    "```python\n",
    "def one_to_x(x):\n",
    "    #빈칸\n",
    "def three_times(one_to_100):\n",
    "    #빈칸\n",
    "end = 100\n",
    "print(one_to_x(end))\n",
    "print(three_times(빈칸))\n",
    "```\n",
    "output:\n",
    "```python\n",
    "[1,2,3,4,5,6,7,8,9,10, ... , 99, 100]\n",
    "[3,6,9,12,15,18,21,24,27,30, ... , 90, 93, 96, 99]\n",
    "```"
   ]
  },
  {
   "cell_type": "code",
   "execution_count": null,
   "metadata": {},
   "outputs": [],
   "source": [
    "def one_to_x(x):\n",
    "    #빈칸\n",
    "def three_times(one_to_100):\n",
    "    #빈칸\n",
    "end = 100\n",
    "print(one_to_x(end))\n",
    "print(three_times(빈칸))"
   ]
  },
  {
   "attachments": {},
   "cell_type": "markdown",
   "metadata": {},
   "source": [
    "# 람다 함수 사용 연습\n",
    "### 사전에 작성된 코드를 건드리지 않고, 람다 함수 작성만을 통해 문제를 해결하세요."
   ]
  },
  {
   "attachments": {},
   "cell_type": "markdown",
   "metadata": {},
   "source": [
    "#### 1부터 100까지의 숫자 배열 중, 3의 배수만을 출력하도록 하세요.\n",
    "Hint: filter, lambda를 사용할 수 있습니다.\n",
    "<https://edu.dojang.io/mod/page/view.php?id=3060>\n",
    "\n",
    "```python\n",
    "print(list(빈칸))\n",
    "```"
   ]
  },
  {
   "cell_type": "code",
   "execution_count": 11,
   "metadata": {},
   "outputs": [
    {
     "name": "stdout",
     "output_type": "stream",
     "text": [
      "[3, 6, 9, 12, 15, 18, 21, 24, 27, 30, 33, 36, 39, 42, 45, 48, 51, 54, 57, 60, 63, 66, 69, 72, 75, 78, 81, 84, 87, 90, 93, 96, 99]\n"
     ]
    }
   ],
   "source": [
    "print(list(빈칸))"
   ]
  },
  {
   "attachments": {},
   "cell_type": "markdown",
   "metadata": {},
   "source": []
  }
 ],
 "metadata": {
  "kernelspec": {
   "display_name": "Python 3",
   "language": "python",
   "name": "python3"
  },
  "language_info": {
   "codemirror_mode": {
    "name": "ipython",
    "version": 3
   },
   "file_extension": ".py",
   "mimetype": "text/x-python",
   "name": "python",
   "nbconvert_exporter": "python",
   "pygments_lexer": "ipython3",
   "version": "3.11.1"
  },
  "orig_nbformat": 4
 },
 "nbformat": 4,
 "nbformat_minor": 2
}
