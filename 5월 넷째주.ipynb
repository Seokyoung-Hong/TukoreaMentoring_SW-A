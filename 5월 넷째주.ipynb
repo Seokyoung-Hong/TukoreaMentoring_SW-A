{
 "cells": [
  {
   "attachments": {},
   "cell_type": "markdown",
   "metadata": {},
   "source": [
    "# 클래스\n",
    "\n",
    "클래스 하나를 우리는 하나의 객체라고 부른다.\n",
    "\n",
    "클래스는 객체를 만들기 위한 설계도이다.\n",
    "```python\n",
    "class 클래스이름:\n",
    "    def __init__(self, 매개변수):\n",
    "        self.속성 = 매개변수\n",
    "```\n",
    "위와 같이 클래스를 만들 수 있다.\n",
    "```python\n",
    "temp = 클래스이름(매개변수)\n",
    "```\n",
    "위와 같이 클래스를 이용하여 객체를 만들 수 있다.\n"
   ]
  },
  {
   "cell_type": "code",
   "execution_count": 2,
   "metadata": {},
   "outputs": [],
   "source": [
    "class Person:\n",
    "    def __init__(self, name, age):\n",
    "        self.name = name\n",
    "        self.age = age"
   ]
  },
  {
   "attachments": {},
   "cell_type": "markdown",
   "metadata": {},
   "source": [
    "## \\_\\_init\\_\\_() 함수\n",
    "```python\n",
    "class Person:\n",
    "    def __init__(self, name, age):\n",
    "        self.name = name\n",
    "        self.age = age\n",
    "```\n",
    "위와 같이 클래스를 만들면서 \\_\\_init\\_\\_() 함수를 만들 수 있다.\n",
    "\n",
    "\\_\\_init\\_\\_() 함수는 객체가 만들어질 때 자동으로 호출되는 함수이다.\n",
    "```\n",
    "p1 = Person(\"John\", 36)\n",
    "```\n",
    "위와 같이 객체를 만들면 \\_\\_init\\_\\_() 함수가 자동으로 호출되면서, name과 age라는 속성을 p1 객체에 추가하는 것이다."
   ]
  },
  {
   "cell_type": "code",
   "execution_count": 3,
   "metadata": {},
   "outputs": [],
   "source": [
    "class Person:\n",
    "    def __init__(self, name, age):\n",
    "        self.name = name\n",
    "        self.age = age\n",
    "    def myfunc(self):\n",
    "        print(\"Hello my name is \" + self.name)"
   ]
  },
  {
   "attachments": {},
   "cell_type": "markdown",
   "metadata": {},
   "source": [
    "## self 매개변수\n",
    "```python\n",
    "class Person:\n",
    "    def __init__(self, name, age):\n",
    "        self.name = name\n",
    "        self.age = age\n",
    "```\n",
    "위와 같이 \\_\\_init\\_\\_() 함수를 만들 때 self 매개변수를 사용한다."
   ]
  },
  {
   "attachments": {},
   "cell_type": "markdown",
   "metadata": {},
   "source": [
    "\n",
    "### 클래스에 함수 만들기\n",
    "```python\n",
    "class Person:\n",
    "    def __init__(self, name, age):\n",
    "        self.name = name\n",
    "        self.age = age\n",
    "    def myfunc(self):\n",
    "        print(\"Hello my name is \" + self.name)\n",
    "```\n",
    "\n",
    "위와 같이 클래스에 함수를 만들 수 있다.\n",
    "\n",
    "위의 함수는 myfunc()라는 함수를 만들었고, self 매개변수를 사용하였다.\n",
    "이처럼 클래스 내부 함수에서 self 매개변수를 사용할 때에는, self를 함수의 method로 넣어주기만 하면 된다."
   ]
  },
  {
   "cell_type": "code",
   "execution_count": 5,
   "metadata": {},
   "outputs": [
    {
     "name": "stdout",
     "output_type": "stream",
     "text": [
      "Hello my name is John\n"
     ]
    }
   ],
   "source": [
    "p1 = Person(\"John\", 36)\n",
    "p1.myfunc()\n"
   ]
  },
  {
   "attachments": {},
   "cell_type": "markdown",
   "metadata": {},
   "source": [
    "### 클래스 함수 호출하기\n",
    "```python\n",
    "p1 = Person(\"John\", 36)\n",
    "p1.myfunc()\n",
    "```\n",
    "위와 같이 객체의 함수를 호출할 수 있다.\n",
    "\n",
    "\n",
    "\n"
   ]
  },
  {
   "cell_type": "code",
   "execution_count": 4,
   "metadata": {},
   "outputs": [
    {
     "name": "stdout",
     "output_type": "stream",
     "text": [
      "Hello my name is John\n"
     ]
    }
   ],
   "source": [
    "p1 = Person(\"John\", 36)\n",
    "p1.myfunc()"
   ]
  },
  {
   "attachments": {},
   "cell_type": "markdown",
   "metadata": {},
   "source": [
    "# 인간 클래스 만들기\n",
    "\n",
    "Person 클래스를 만들어 보자. <br>\n",
    "인간(=Person)은 자신의 이름, 나이, 성별, 키, 몸무게, 혈액형을 가지고 있다. <br>\n",
    "인간은 객체가 생성되면서부터 모든 정보를 알고 있다. (\\_\\_init\\_\\_함수의 메서드로 모든 정보를 받는다) <br> \n",
    "또한 인간은 자신의 이름, 나이, 성별, 키, 몸무게, 혈액형을 출력하는 함수를 각각 가지고 있다. (함수 총 6개)"
   ]
  },
  {
   "cell_type": "code",
   "execution_count": null,
   "metadata": {},
   "outputs": [],
   "source": []
  },
  {
   "attachments": {},
   "cell_type": "markdown",
   "metadata": {},
   "source": [
    "### 내부 함수에서 내부함수 호출하기\n",
    "\n",
    "인간 클래스에 자신의 이름, 나이, 성별, 키, 몸무게, 혈액형을 전부 소개하는 함수를 만들어 보자. <br>\n",
    "단 print() 함수를 사용하지 않고, 내부 함수를 호출하여 출력하자."
   ]
  },
  {
   "cell_type": "code",
   "execution_count": null,
   "metadata": {},
   "outputs": [],
   "source": []
  },
  {
   "attachments": {},
   "cell_type": "markdown",
   "metadata": {},
   "source": [
    "### 인간 클래스의 객체 만들기\n",
    "만든 클래스를 이용해 p1이라는 객체를 만들자. <br>\n",
    "p1은 이름이 \"John\", 나이가 36, 성별이 남자, 키가 180, 몸무게가 80, 혈액형이 O형인 인간이다."
   ]
  },
  {
   "cell_type": "code",
   "execution_count": null,
   "metadata": {},
   "outputs": [],
   "source": []
  },
  {
   "attachments": {},
   "cell_type": "markdown",
   "metadata": {},
   "source": [
    "### 인간 클래스의 객체 함수 실행하기\n",
    "p1을 소개하는 함수를 실행해보자."
   ]
  },
  {
   "cell_type": "code",
   "execution_count": null,
   "metadata": {},
   "outputs": [],
   "source": []
  },
  {
   "attachments": {},
   "cell_type": "markdown",
   "metadata": {},
   "source": [
    "### 클래스의 정보 변경하는 함수 만들기\n",
    "인간의 키가 성장하여 키가 성장했다고 한다.\n",
    "키가 얼마나 컸는지 입력받아, 키를 수정하는 함수를 만들어보자"
   ]
  },
  {
   "cell_type": "code",
   "execution_count": null,
   "metadata": {},
   "outputs": [],
   "source": []
  },
  {
   "attachments": {},
   "cell_type": "markdown",
   "metadata": {},
   "source": [
    "## 클래스 상속하기\n",
    "```python\n",
    "class Student(Person):\n",
    "    pass\n",
    "```\n",
    "위와 같이 클래스를 만들면, Student 클래스는 Person 클래스를 상속받는다."
   ]
  },
  {
   "attachments": {},
   "cell_type": "markdown",
   "metadata": {},
   "source": [
    "class Student(Person)에서 Person은 부모 클래스이고, Student는 자식 클래스이다. \n",
    "자식은 부모 클래스의 모든것을 물려받으며, 자식 클래스에서는 부모 클래스의 함수와 매개변수를 사용할 수 있다."
   ]
  },
  {
   "cell_type": "code",
   "execution_count": 6,
   "metadata": {},
   "outputs": [],
   "source": [
    "class Student(Person):\n",
    "    pass"
   ]
  },
  {
   "cell_type": "code",
   "execution_count": 7,
   "metadata": {},
   "outputs": [
    {
     "name": "stdout",
     "output_type": "stream",
     "text": [
      "Hello my name is John\n"
     ]
    }
   ],
   "source": [
    "st1 = Student(\"John\", 36)\n",
    "st1.myfunc()"
   ]
  },
  {
   "attachments": {},
   "cell_type": "markdown",
   "metadata": {},
   "source": [
    "# 학생 클래스 만들기\n",
    "- 학생은 인간이다. <br>\n",
    "- 학생은 자신의 이름, 나이, 성별, 키, 몸무게, 혈액형을 가지고 있다.\n",
    "- 학생은 자신의 이름, 나이, 성별, 키, 몸무게, 혈액형을 출력하는 함수를 각각 가지고 있다. (함수 총 6개) \n",
    "- 학생은 자신의 학년, 학번, 학교를 가지고 있다. \n",
    "- 학생은 자신의 학년, 학번, 학교를 출력하는 함수를 각각 가지고 있다. (함수 총 3개) \n",
    "- 학생은 자신의 학년을 수정하는 함수를 가지고 있다. \n",
    "- 학생은 자신의 학번을 수정하는 함수를 가지고 있다. \n",
    "- 학생은 자신의 학교를 수정하는 함수를 가지고 있다. "
   ]
  },
  {
   "attachments": {},
   "cell_type": "markdown",
   "metadata": {},
   "source": [
    "##### 위 설명에 맞는 함수를 만들어보자"
   ]
  },
  {
   "cell_type": "code",
   "execution_count": null,
   "metadata": {},
   "outputs": [],
   "source": []
  },
  {
   "attachments": {},
   "cell_type": "markdown",
   "metadata": {},
   "source": [
    "### 학생 클래스의 객체 만들기\n",
    "만든 클래스를 이용해 s1이라는 객체를 만들자. <br>\n",
    "s1은 이름이 \"John\", 나이가 36, 성별이 남자, 키가 180, 몸무게가 80, 혈액형이 O형인 학생이다. <br>\n",
    "s1의 학년은 3학년, 학번은 1번, 학교는 서울대학교이다."
   ]
  },
  {
   "cell_type": "markdown",
   "metadata": {},
   "source": []
  },
  {
   "attachments": {},
   "cell_type": "markdown",
   "metadata": {},
   "source": [
    "# 자판기에 적용해보기\n",
    "\n",
    "자판기를 클래스로 만들어보자."
   ]
  },
  {
   "cell_type": "code",
   "execution_count": null,
   "metadata": {},
   "outputs": [],
   "source": []
  }
 ],
 "metadata": {
  "kernelspec": {
   "display_name": "Python 3",
   "language": "python",
   "name": "python3"
  },
  "language_info": {
   "codemirror_mode": {
    "name": "ipython",
    "version": 3
   },
   "file_extension": ".py",
   "mimetype": "text/x-python",
   "name": "python",
   "nbconvert_exporter": "python",
   "pygments_lexer": "ipython3",
   "version": "3.11.1"
  },
  "orig_nbformat": 4
 },
 "nbformat": 4,
 "nbformat_minor": 2
}
