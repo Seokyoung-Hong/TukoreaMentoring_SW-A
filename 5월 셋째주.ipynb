{
 "cells": [
  {
   "attachments": {},
   "cell_type": "markdown",
   "metadata": {},
   "source": [
    "# 함수\n",
    "\n",
    "함수는 특정한 기능을 하는 코드의 묶음이다. 함수를 사용하면 불필요한 소스코드의 반복을 줄일 수 있다. <br>\n",
    "파이썬에서는 함수를 다음과 같은 방법으로 정의한다.<br>\n",
    "```python\n",
    "def 함수명(매개변수):\n",
    "    실행할 소스코드\n",
    "    return 반환값\n",
    "```"
   ]
  },
  {
   "cell_type": "code",
   "execution_count": 3,
   "metadata": {},
   "outputs": [
    {
     "name": "stdout",
     "output_type": "stream",
     "text": [
      "returning 42\n",
      "42\n",
      "returning 5 * 6\n",
      "30\n",
      "returning 1 + 2 + 3 + 4\n",
      "10\n"
     ]
    }
   ],
   "source": [
    "def return_42():\n",
    "    print(\"returning 42\")\n",
    "    return 42\n",
    "\n",
    "def my_method(a, b):\n",
    "    print(f\"returning {a} * {b}\")\n",
    "    return a * b\n",
    "\n",
    "def my_long_method(a, b, c, d):\n",
    "    print(f\"returning {a} + {b} + {c} + {d}\")\n",
    "    return a + b + c + d\n",
    "\n",
    "\n",
    "print(return_42())\n",
    "print(my_method(5, 6))\n",
    "print(my_long_method(1, 2, 3, 4))"
   ]
  },
  {
   "attachments": {},
   "cell_type": "markdown",
   "metadata": {},
   "source": [
    "# 재귀 함수\n",
    "재귀 함수(Recursive Function)란 자기 자신을 다시 호출하는 함수를 의미한다. <br>\n",
    "단순한 형태의 재귀 함수 예제를 살펴보자. <br>\n",
    "```python\n",
    "def recursive_function():\n",
    "    print('재귀 함수를 호출합니다.')\n",
    "    recursive_function()\n",
    "\n",
    "recursive_function()\n",
    "```"
   ]
  },
  {
   "attachments": {},
   "cell_type": "markdown",
   "metadata": {},
   "source": [
    "아래 함수를 이해해보자"
   ]
  },
  {
   "cell_type": "code",
   "execution_count": 12,
   "metadata": {},
   "outputs": [
    {
     "name": "stdout",
     "output_type": "stream",
     "text": [
      "10\n",
      "9\n",
      "8\n",
      "7\n",
      "6\n",
      "5\n",
      "4\n",
      "3\n",
      "2\n",
      "1\n",
      "-----------------------------------\n",
      "1\n",
      "2\n",
      "3\n",
      "4\n",
      "5\n",
      "6\n",
      "7\n",
      "8\n",
      "9\n",
      "10\n"
     ]
    }
   ],
   "source": [
    "def type_a(n):\n",
    "    if n == 10:\n",
    "        return n\n",
    "    print(type_a(n + 1))\n",
    "    return n\n",
    "\n",
    "def type_b(n):\n",
    "    if n == 10:\n",
    "        return n\n",
    "    print(n)\n",
    "    return type_b(n + 1)\n",
    "print(type_a(1))\n",
    "print('-----------------------------------')\n",
    "print(type_b(1))"
   ]
  },
  {
   "attachments": {},
   "cell_type": "markdown",
   "metadata": {},
   "source": [
    "# 람다 표현식\n",
    "람다 표현식(Lambda Expression)란 특정한 기능을 수행하는 함수를 한 줄에 작성할 수 있다는 특징이 있다. <br>\n",
    "```python\n",
    "def add(a, b):\n",
    "    return a + b\n",
    "\n",
    "print(add(3, 7))\n",
    "```\n",
    "람다 표현식으로 구현한 add() 메서드는 다음과 같다.\n",
    "```python\n",
    "print((lambda a, b: a + b)(3, 7))\n",
    "```\n"
   ]
  },
  {
   "attachments": {},
   "cell_type": "markdown",
   "metadata": {},
   "source": [
    "# map 함수\n",
    "map() 함수는 리스트의 요소를 지정된 함수로 처리해주는 함수이다. <br>\n",
    "```python\n",
    "def two_times(numberList):\n",
    "    result = []\n",
    "    for number in numberList:\n",
    "        result.append(number*2)\n",
    "    return result\n",
    "\n",
    "result = two_times([1, 2, 3, 4])\n",
    "print(result)\n",
    "```\n",
    "위의 코드를 map() 함수를 사용하면 다음과 같다.\n",
    "```python\n",
    "def two_times(x):\n",
    "    return x*2\n",
    "\n",
    "list(map(two_times, [1, 2, 3, 4]))\n",
    "```\n"
   ]
  },
  {
   "attachments": {},
   "cell_type": "markdown",
   "metadata": {},
   "source": [
    "map 함수를 이용해 369 게임의 진행결과를 담은 리스트를 출력해보자 단, 369 게임의 규칙은 다음과 같다. <br>\n",
    "1. 3, 6, 9가 포함되어 있지 않은 경우에는 그냥 수를 출력한다.\n",
    "2. 3, 6, 9가 포함되어 있는 경우에는 해당 개수만큼 '짝'를 출력한다."
   ]
  },
  {
   "cell_type": "code",
   "execution_count": 15,
   "metadata": {},
   "outputs": [],
   "source": [
    "num_list = list(range(1,40))\n",
    "# code here\n"
   ]
  },
  {
   "attachments": {},
   "cell_type": "markdown",
   "metadata": {},
   "source": [
    "# 잔돈 계산하기\n",
    "금액을 입력받고 입력받은 금액을 그대로 반환할 경우 필요한 500원, 100원의 개수를 출력하세요. <br>\n",
    "단, 500원, 100원의 개수가 최소가 되도록 하라."
   ]
  },
  {
   "attachments": {},
   "cell_type": "markdown",
   "metadata": {},
   "source": [
    "(입력) 3800 <br>\n",
    "(출력) 500원: 7개, 100원: 3개"
   ]
  },
  {
   "cell_type": "code",
   "execution_count": null,
   "metadata": {},
   "outputs": [],
   "source": [
    "# code here\n"
   ]
  },
  {
   "attachments": {},
   "cell_type": "markdown",
   "metadata": {},
   "source": [
    "# 음료수 판매\n",
    "콜라: 1000원, 5개<br>\n",
    "사이다: 900원, 0개<br>\n",
    "환타: 700원, 10개<br>\n",
    "마운틴듀: 1200원, 1개<br>\n",
    "파워에이드: 1500원, 0개 <br>"
   ]
  },
  {
   "attachments": {},
   "cell_type": "markdown",
   "metadata": {},
   "source": [
    "## 음료수 판매하기\n",
    "\n",
    "음료수의 이름을 입력받고, 알맞은 음료수의 가격을 출력하는 프로그램을 작성하세요. <br>\n",
    "단, 음료수의 이름이 아닌 다른 문자열이 입력되면 \"다시 입력해주세요\"를 출력하세요. <br>\n",
    "\n",
    "<실행화면>\n",
    "```\n",
    "음료수를 입력하세요: 콜라\n",
    "콜라의 가격은 1000원입니다.\n",
    "```"
   ]
  },
  {
   "cell_type": "code",
   "execution_count": null,
   "metadata": {},
   "outputs": [],
   "source": [
    "# code here\n"
   ]
  },
  {
   "attachments": {},
   "cell_type": "markdown",
   "metadata": {},
   "source": [
    "## 음료수 판매하기2\n",
    "\n",
    "1번에 이어서 동전을 입력받아 거스름돈을 출력하는 프로그램을 작성하세요. <br>\n",
    "또한, 동전의 종류는 500원, 100원으로 가정합니다. <br>\n",
    "단, 동전의 종류가 아닌 다른 숫자가 입력되면 \"다시 입력해주세요\"를 출력하세요. <br>\n",
    "또한, 입력한 음료수에 투입된 돈이 부족하면 다시 음료수의 이름을 입력받아야 합니다. <br>\n",
    "<br>\n",
    "<실행화면>\n",
    "```\n",
    "음료수를 입력하세요: 사이다\n",
    "콜라의 가격은 900원입니다.\n",
    "동전을 입력하세요: 500\n",
    "동전을 입력하세요: 500\n",
    "거스름돈은 500원 0개, 100원 1개입니다.\n",
    "```"
   ]
  },
  {
   "cell_type": "code",
   "execution_count": null,
   "metadata": {},
   "outputs": [],
   "source": [
    "# code here\n"
   ]
  },
  {
   "attachments": {},
   "cell_type": "markdown",
   "metadata": {},
   "source": [
    "## 음료수 판매하기3\n",
    "\n",
    "2번에 이어서 음료수의 재고에 따라 재고가 없으면 \"재고가 없습니다.\"를 출력하세요.\n",
    "\n",
    "\n",
    "\n",
    "<실행화면>\n",
    "```\n",
    "음료수를 입력하세요: 사이다\n",
    "콜라의 가격은 1000원입니다.\n",
    "동전을 입력하세요: 500\n",
    "동전을 입력하세요: 500\n",
    "거스름돈은 500원 0개, 100원 1개입니다.\n",
    "재고가 없습니다.\n",
    "```"
   ]
  },
  {
   "cell_type": "code",
   "execution_count": null,
   "metadata": {},
   "outputs": [],
   "source": [
    "# code here\n"
   ]
  },
  {
   "attachments": {},
   "cell_type": "markdown",
   "metadata": {},
   "source": [
    "# 음료수 판매하기4\n",
    "\n",
    "3번에 이어서 음료수의 재고가 0개가 되면 \"재고가 없습니다.\"를 출력하고, <br>\n",
    "재고가 0개인 음료수의 가격을 출력하지 않도록 하세요. <br>"
   ]
  },
  {
   "cell_type": "code",
   "execution_count": 2,
   "metadata": {},
   "outputs": [],
   "source": [
    "# code here\n"
   ]
  },
  {
   "attachments": {},
   "cell_type": "markdown",
   "metadata": {},
   "source": [
    "# 음료수 판매하기5\n",
    "\n",
    "4번에 이어서 음료수의 재고가 0개인 경우에는 음료수의 이름을 다시 입력받으세요. <br>"
   ]
  },
  {
   "cell_type": "code",
   "execution_count": 3,
   "metadata": {},
   "outputs": [],
   "source": [
    "# code here"
   ]
  },
  {
   "attachments": {},
   "cell_type": "markdown",
   "metadata": {},
   "source": [
    "# 음료수 판매하기6\n",
    "\n",
    "음료수의 이름과 재고, 가격을 전부 product.txt 파일에서 불러와 5번을 실행하세요. <br>\n",
    "자신이 원하는 형태로 txt파일을 만드세요 최소 3개의 음료가 들어있어야 합니다<br>\n",
    "json 파일에 대해 안다면, json 파일로 저장하고 불러오세요."
   ]
  },
  {
   "attachments": {},
   "cell_type": "markdown",
   "metadata": {},
   "source": [
    "### Hint\n",
    "```\n",
    "f = open(\"product.txt\", \"r\")\n",
    "lines = f.readlines()\n",
    "f.close()\n",
    "```"
   ]
  },
  {
   "cell_type": "code",
   "execution_count": 4,
   "metadata": {},
   "outputs": [],
   "source": [
    "# code here"
   ]
  },
  {
   "attachments": {},
   "cell_type": "markdown",
   "metadata": {},
   "source": [
    "# 음료수 판매하기7 (이름변경)\n",
    "파일에서 불러온 음료수의 이름을 변경하는 함수를 만드세요. <br>\n",
    "단, 변경할 음료수의 이름과 변경할 이름을 입력받아야 합니다. <br>\n",
    "또한, 변경할 음료수의 이름이 없으면 \"해당 음료수가 없습니다.\"를 출력하세요. <br>"
   ]
  },
  {
   "cell_type": "code",
   "execution_count": null,
   "metadata": {},
   "outputs": [],
   "source": []
  },
  {
   "attachments": {},
   "cell_type": "markdown",
   "metadata": {},
   "source": [
    "# 음료수 판매하기8 (가격변경)\n",
    "이번에는 가격을 변경하는 함수를 만드세요. <br>\n",
    "단, 변경할 음료수의 이름과 변경할 가격을 입력받아야 합니다. <br>\n",
    "또한, 변경할 음료수의 이름이 없으면 \"해당 음료수가 없습니다.\"를 출력하세요. <br>\n",
    "물품상태 변경여부를 확인하기 위해 상태를 담은 리스트 또는 딕셔너리를 출력하세요"
   ]
  },
  {
   "attachments": {},
   "cell_type": "markdown",
   "metadata": {},
   "source": [
    "### Hint\n",
    "위 음료수 판매하기7과 8은 같은 함수를 사용할 수 있습니다. <br>\n",
    "둘 다 음료수의 이름을 입력받고 이름이 없으면 오류를 출력하고, <br>\n",
    "있으면 변경할 값을 입력받아 변경합니다. <br>"
   ]
  },
  {
   "cell_type": "code",
   "execution_count": null,
   "metadata": {},
   "outputs": [],
   "source": []
  },
  {
   "attachments": {},
   "cell_type": "markdown",
   "metadata": {},
   "source": [
    "# 음료수 판매하기9 (재고변경)\n",
    "이번에는 재고를 변경하는 함수를 만드세요. <br>\n",
    "단, 변경할 음료수의 이름과 변경할 재고를 입력받아야 합니다. <br>\n",
    "또한, 변경할 음료수의 이름이 없으면 \"해당 음료수가 없습니다.\"를 출력하세요. <br>\n",
    "물품상태 변경여부를 확인하기 위해 상태를 담은 리스트 또는 딕셔너리를 출력하세요"
   ]
  },
  {
   "cell_type": "code",
   "execution_count": null,
   "metadata": {},
   "outputs": [],
   "source": []
  },
  {
   "attachments": {},
   "cell_type": "markdown",
   "metadata": {},
   "source": [
    "# 음료수 판매하기10 (음료수 추가)\n",
    "이번에는 음료수를 추가하는 함수를 만드세요. <br>\n",
    "단, 추가할 음료수의 이름, 가격, 재고를 입력받아야 합니다. <br>\n",
    "물품상태 변경여부를 확인하기 위해 상태를 담은 리스트 또는 딕셔너리를 출력하세요"
   ]
  },
  {
   "cell_type": "code",
   "execution_count": null,
   "metadata": {},
   "outputs": [],
   "source": []
  },
  {
   "attachments": {},
   "cell_type": "markdown",
   "metadata": {},
   "source": [
    "# 음료수 판매하기11 (음료수 삭제)\n",
    "이번에는 음료수를 삭제하는 함수를 만드세요. <br>\n",
    "단, 삭제할 음료수의 이름을 입력받아야 합니다. <br>\n",
    "또한, 삭제할 음료수의 이름이 없으면 \"해당 음료수가 없습니다.\"를 출력하세요. <br>\n",
    "물품상태 변경여부를 확인하기 위해 상태를 담은 리스트 또는 딕셔너리를 출력하세요"
   ]
  },
  {
   "cell_type": "code",
   "execution_count": null,
   "metadata": {},
   "outputs": [],
   "source": []
  },
  {
   "attachments": {},
   "cell_type": "markdown",
   "metadata": {},
   "source": [
    "# 음료수 판매하기12 (파일저장)\n",
    "이번에는 파일에 저장하는 함수를 만드세요. <br>\n",
    "단, 파일에 저장할 때는 음료수의 이름, 가격, 재고를 저장해야 합니다. <br>"
   ]
  },
  {
   "cell_type": "code",
   "execution_count": null,
   "metadata": {},
   "outputs": [],
   "source": []
  }
 ],
 "metadata": {
  "kernelspec": {
   "display_name": "Python 3",
   "language": "python",
   "name": "python3"
  },
  "language_info": {
   "codemirror_mode": {
    "name": "ipython",
    "version": 3
   },
   "file_extension": ".py",
   "mimetype": "text/x-python",
   "name": "python",
   "nbconvert_exporter": "python",
   "pygments_lexer": "ipython3",
   "version": "3.11.1"
  },
  "orig_nbformat": 4
 },
 "nbformat": 4,
 "nbformat_minor": 2
}
