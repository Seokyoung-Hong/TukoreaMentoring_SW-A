{
 "cells": [
  {
   "cell_type": "code",
   "execution_count": 1,
   "metadata": {},
   "outputs": [
    {
     "data": {
      "text/plain": [
       "3"
      ]
     },
     "execution_count": 1,
     "metadata": {},
     "output_type": "execute_result"
    }
   ],
   "source": [
    "list = [1,2,3,4,5]\n",
    "\n",
    "list[2]"
   ]
  },
  {
   "attachments": {},
   "cell_type": "markdown",
   "metadata": {},
   "source": [
    "# 슬라이싱\n",
    "\n",
    "list = [0,1,2,3,4,6,7,8,9,10]\n",
    "\n",
    "1. 1번째부터 3번째까지 출력하기             -> [0,1,2]\n",
    "2. 8번째부터 5번째까지 거꾸로 출력하기      -> [7,6,5,4]\n",
    "3. 리스트 전체 뒤집기                       -> [10,9,8,7,6,5,4,3,2,1,0]\n",
    "4. 처음부터 뒤에서 4번째까지 출력하기       -> [0,1,2,3,4,5,6,7]"
   ]
  },
  {
   "cell_type": "code",
   "execution_count": 9,
   "metadata": {},
   "outputs": [
    {
     "name": "stdout",
     "output_type": "stream",
     "text": [
      "[0, 1, 2]\n",
      "[7, 6, 5, 4]\n",
      "[10, 9, 8, 7, 6, 5, 4, 3, 2, 1, 0]\n",
      "[0, 1, 2, 3, 4, 5, 6, 7]\n"
     ]
    }
   ],
   "source": [
    "list = [0,1,2,3,4,5,6,7,8,9,10]\n",
    "\n",
    "print(list[0:3])\n",
    "print(list[7:3:-1])\n",
    "print(list[::-1])\n",
    "print(list[:-3])"
   ]
  },
  {
   "attachments": {},
   "cell_type": "markdown",
   "metadata": {},
   "source": [
    "# for문\n",
    "\n",
    "1. 1부터 100까지의 숫자를 for문을 이용하여 출력하기\n",
    "2. 1부터 100까지의 숫자 중 3의 배수만 출력하기\n",
    "3. 1부터 100까지의 숫자 중 3의 배수의 합 구하기\n",
    "4. 1부터 100까지의 숫자 중 3의 배수의 개수 구하기\n",
    "5. 1부터 100까지의 숫자 중 3의 배수의 합과 개수 구하기"
   ]
  },
  {
   "cell_type": "code",
   "execution_count": 13,
   "metadata": {},
   "outputs": [
    {
     "name": "stdout",
     "output_type": "stream",
     "text": [
      "33\n",
      "1683\n"
     ]
    }
   ],
   "source": [
    "c=0\n",
    "j=0\n",
    "for i in range(1,101):\n",
    "    if i%3==0:\n",
    "        # print(i)\n",
    "        j+=i\n",
    "        c+=1\n",
    "print(c)\n",
    "print(j)"
   ]
  },
  {
   "attachments": {},
   "cell_type": "markdown",
   "metadata": {},
   "source": [
    "# While문\n",
    "\n",
    "1. 1부터 100까지의 숫자를 while문을 이용하여 출력하기\n",
    "2. 1부터 100까지의 숫자 중 3의 배수만 출력하기\n",
    "3. 1부터 100까지의 숫자 중 3의 배수의 합 구하기\n",
    "4. 1부터 100까지의 숫자 중 3의 배수의 개수 구하기\n",
    "5. 1부터 100까지의 숫자 중 3의 배수의 합과 개수 구하기"
   ]
  },
  {
   "cell_type": "code",
   "execution_count": 17,
   "metadata": {},
   "outputs": [
    {
     "name": "stdout",
     "output_type": "stream",
     "text": [
      "1\n",
      "2\n",
      "3\n",
      "3\n",
      "4\n",
      "5\n",
      "6\n",
      "6\n",
      "7\n",
      "8\n",
      "9\n",
      "9\n",
      "10\n",
      "11\n",
      "12\n",
      "12\n",
      "13\n",
      "14\n",
      "15\n",
      "15\n",
      "16\n",
      "17\n",
      "18\n",
      "18\n",
      "19\n",
      "20\n",
      "21\n",
      "21\n",
      "22\n",
      "23\n",
      "24\n",
      "24\n",
      "25\n",
      "26\n",
      "27\n",
      "27\n",
      "28\n",
      "29\n",
      "30\n",
      "30\n",
      "31\n",
      "32\n",
      "33\n",
      "33\n",
      "34\n",
      "35\n",
      "36\n",
      "36\n",
      "37\n",
      "38\n",
      "39\n",
      "39\n",
      "40\n",
      "41\n",
      "42\n",
      "42\n",
      "43\n",
      "44\n",
      "45\n",
      "45\n",
      "46\n",
      "47\n",
      "48\n",
      "48\n",
      "49\n",
      "50\n",
      "51\n",
      "51\n",
      "52\n",
      "53\n",
      "54\n",
      "54\n",
      "55\n",
      "56\n",
      "57\n",
      "57\n",
      "58\n",
      "59\n",
      "60\n",
      "60\n",
      "61\n",
      "62\n",
      "63\n",
      "63\n",
      "64\n",
      "65\n",
      "66\n",
      "66\n",
      "67\n",
      "68\n",
      "69\n",
      "69\n",
      "70\n",
      "71\n",
      "72\n",
      "72\n",
      "73\n",
      "74\n",
      "75\n",
      "75\n",
      "76\n",
      "77\n",
      "78\n",
      "78\n",
      "79\n",
      "80\n",
      "81\n",
      "81\n",
      "82\n",
      "83\n",
      "84\n",
      "84\n",
      "85\n",
      "86\n",
      "87\n",
      "87\n",
      "88\n",
      "89\n",
      "90\n",
      "90\n",
      "91\n",
      "92\n",
      "93\n",
      "93\n",
      "94\n",
      "95\n",
      "96\n",
      "96\n",
      "97\n",
      "98\n",
      "99\n",
      "99\n",
      "100\n",
      "33 1683\n"
     ]
    }
   ],
   "source": [
    "i=1\n",
    "c=0\n",
    "p=0\n",
    "while i<101:\n",
    "    print(i)\n",
    "    if i%3==0:\n",
    "        print(i)\n",
    "        c+=1\n",
    "        p+=i\n",
    "    i+=1\n",
    "print(c,p)"
   ]
  },
  {
   "attachments": {},
   "cell_type": "markdown",
   "metadata": {},
   "source": [
    "# 리스트 컴프리헨션\n",
    "\n",
    "[1~100] 만들기"
   ]
  },
  {
   "cell_type": "code",
   "execution_count": 18,
   "metadata": {},
   "outputs": [
    {
     "name": "stdout",
     "output_type": "stream",
     "text": [
      "[2, 3, 4, 6, 8, 9, 10, 12, 14, 15, 16, 18, 20, 21, 22, 24, 26, 27, 28, 30, 32, 33, 34, 36, 38, 39, 40, 42, 44, 45, 46, 48, 50, 51, 52, 54, 56, 57, 58, 60, 62, 63, 64, 66, 68, 69, 70, 72, 74, 75, 76, 78, 80, 81, 82, 84, 86, 87, 88, 90, 92, 93, 94, 96, 98, 99, 100]\n"
     ]
    }
   ],
   "source": [
    "x = 5\n",
    "\n",
    "print([ i for i in range(1,101) if i%2==0 or i%3==0 ]) "
   ]
  },
  {
   "attachments": {},
   "cell_type": "markdown",
   "metadata": {},
   "source": [
    "# 중간고사 review"
   ]
  },
  {
   "attachments": {},
   "cell_type": "markdown",
   "metadata": {},
   "source": [
    "### 1. (3점) \n",
    "입력 받은 세 정수의 공약수를 리스트로 만들어 아래와 같이 출력하는 프로그램을완성하시오.   \n",
    "단, list comprehension의 괄호 안에만 코드를 작성하기 바람.   \n",
    "(힌트) a의 약수는 a를 b로 나누었을 때 나머지가 0이 되는 b를 의미한다. \n",
    "\n",
    "<실행 결과 >\n",
    "\n",
    "enter 3 integers:120 140 200 <enter>\n",
    " \n",
    "[1, 2, 4, 5, 10, 20]"
   ]
  },
  {
   "cell_type": "code",
   "execution_count": 23,
   "metadata": {},
   "outputs": [
    {
     "name": "stdout",
     "output_type": "stream",
     "text": [
      "1\n",
      "2\n",
      "3\n",
      "4\n",
      "5\n",
      "6\n",
      "8\n",
      "10\n",
      "12\n",
      "15\n",
      "20\n",
      "24\n",
      "30\n",
      "40\n",
      "60\n",
      "120\n"
     ]
    }
   ],
   "source": [
    "a = 120\n",
    "b = 240\n",
    "c = 360\n",
    "for i in range(1,min(a,b,c)+1):\n",
    "    if a%i==0 and b%i==0 and c%i==0:\n",
    "        print(i)\n",
    "\n",
    "\n",
    "\n",
    "# for i in range(1,b+1):\n",
    "#     if b%i==0:\n",
    "#         print(i)\n",
    "# for i in range(1,c+1):\n",
    "#     if c%i==0:\n",
    "#         print(i)\n"
   ]
  },
  {
   "cell_type": "code",
   "execution_count": 24,
   "metadata": {},
   "outputs": [
    {
     "name": "stdout",
     "output_type": "stream",
     "text": [
      "[1, 2, 4, 5, 10, 20]\n"
     ]
    }
   ],
   "source": [
    "# 답안작성 셀\n",
    "a, b, c = map(int, input(\"enter 3 integers:\").split()) \n",
    "cdiv = [ i for i in range(1,min(a,b,c)+1) if a%i==0 and b%i==0 and c%i==0 ] #f리스트 컴프리헨션을 이용해야하기 때문에 위의 for문을 이해해야 한다.\n",
    "print(cdiv)"
   ]
  },
  {
   "attachments": {},
   "cell_type": "markdown",
   "metadata": {},
   "source": [
    "# 이중 반복문으로 구구단 1~9단 출력하기\n",
    "output : 1 x 9 = 9"
   ]
  },
  {
   "cell_type": "code",
   "execution_count": 40,
   "metadata": {},
   "outputs": [
    {
     "name": "stdout",
     "output_type": "stream",
     "text": [
      "[1, 2, 3, 4, 5, 6, 7, 8, 9, 2, 4, 6, 8, 10, 12, 14, 16, 18, 3, 6, 9, 12, 15, 18, 21, 24, 27, 4, 8, 12, 16, 20, 24, 28, 32, 36, 5, 10, 15, 20, 25, 30, 35, 40, 45, 6, 12, 18, 24, 30, 36, 42, 48, 54, 7, 14, 21, 28, 35, 42, 49, 56, 63, 8, 16, 24, 32, 40, 48, 56, 64, 72, 9, 18, 27, 36, 45, 54, 63, 72, 81]\n"
     ]
    }
   ],
   "source": [
    "#for i in range(1,10):\n",
    "#    for j in range(1,10):\n",
    "#        print(i,'x',j,'=',i*j)\n",
    "print([i*j for i in range(1,10) for j in range(1,10)])\n",
    "# [1,2,3,4,5,6,7,8,9,2,4,6,8,10,...,81]"
   ]
  },
  {
   "attachments": {},
   "cell_type": "markdown",
   "metadata": {},
   "source": [
    "### 2. (5점) 띠 맞추기\n",
    "생년월일을 “YYYYMMDD” 형태로 입력 받아, 입력된 사람의 띠를 출력하라. 단, 띠는 다음 순서로 부여된다. 쥐소범토용뱀말양원닭개돼 음력을 고려하여, 3월1일을 기준으로 새로운 띠가 주어진다고 가정한다. 참고로, 2021.3.1~2022.2.28까지 출생한 사람은 소띠, 2022.3.1 ~ 2023.2.28에 태어난 사람은 범띠이다. \n",
    "\n",
    "<실행 화면1>   \n",
    "주민번호를 입력하시오:20011223 <enter>    \n",
    "뱀   <enter>      \n",
    "주민번호를 입력하시오:19690424 <enter>   \n",
    "개   <enter> "
   ]
  },
  {
   "cell_type": "code",
   "execution_count": null,
   "metadata": {},
   "outputs": [],
   "source": []
  },
  {
   "attachments": {},
   "cell_type": "markdown",
   "metadata": {},
   "source": [
    "### 3. (5점) 369 게임\n",
    "아래의 실행결과 같이 입력된 양의정수까지 369 게임의 진행결과를 출력하려고 한다. \n",
    "현재 숫자 중에 3,6,9가 포함되어 있으면 포함된 수 만큼 '짝'을 출력하고,\n",
    "그렇지 않으면 그 현재 숫자를 출력하여 입력된 숫자까지 출력한다.  \n",
    "(힌트)해당 수를 문자열로 바꾸어, 그 안에 포함된 3,6,9의 갯수를 계산하여 처리한다. \n",
    "\n",
    "<실행예>  \n",
    "369게임의 최대정수값을 입력하시오:  40 <enter>   \n",
    "    \n",
    "1 2 짝 4 5 짝 7 8 짝 10 11 12 짝 14 15 짝 17 18 짝 20 21 22 짝 24 25 짝 27 28 짝 짝 짝 짝 짝짝 짝 짝 짝짝 짝 짝 짝짝 40"
   ]
  },
  {
   "cell_type": "code",
   "execution_count": 47,
   "metadata": {},
   "outputs": [
    {
     "name": "stdout",
     "output_type": "stream",
     "text": [
      "1 2 짝 4 5 짝 7 8 짝 10 11 12 짝 14 15 짝 17 18 짝 20 21 22 짝 24 25 짝 27 28 짝 짝 짝 짝 짝짝 짝 짝 짝짝 짝 짝 짝짝 40 41 42 짝 44 45 짝 47 48 짝 50 51 52 짝 54 55 짝 57 58 짝 짝 짝 짝 짝짝 짝 짝 짝짝 짝 짝 짝짝 70 71 72 짝 74 75 짝 77 78 짝 80 81 82 짝 84 85 짝 87 88 짝 짝 짝 짝 짝짝 짝 짝 짝짝 짝 짝 짝짝 100 101 102 짝 104 105 짝 107 108 짝 110 111 112 짝 114 115 짝 117 118 짝 120 121 122 짝 124 125 짝 127 128 짝 짝 짝 짝 짝짝 짝 짝 짝짝 짝 짝 짝짝 140 141 142 짝 144 145 짝 147 148 짝 150 151 152 짝 154 155 짝 157 158 짝 짝 짝 짝 짝짝 짝 짝 짝짝 짝 짝 짝짝 170 171 172 짝 174 175 짝 177 178 짝 180 181 182 짝 184 185 짝 187 188 짝 짝 짝 짝 짝짝 짝 짝 짝짝 짝 짝 짝짝 200 201 202 짝 204 205 짝 207 208 짝 210 211 212 짝 214 215 짝 217 218 짝 220 221 222 짝 224 225 짝 227 228 짝 짝 짝 짝 짝짝 짝 짝 짝짝 짝 짝 짝짝 240 241 242 짝 244 245 짝 247 248 짝 250 251 252 짝 254 255 짝 257 258 짝 짝 짝 짝 짝짝 짝 짝 짝짝 짝 짝 짝짝 270 271 272 짝 274 275 짝 277 278 짝 280 281 282 짝 284 285 짝 287 288 짝 짝 짝 짝 짝짝 짝 짝 짝짝 짝 짝 짝짝 짝 짝 짝 짝짝 짝 짝 짝짝 짝 짝 짝짝 짝 짝 짝 짝짝 짝 짝 짝짝 짝 짝 짝짝 짝 짝 짝 짝짝 짝 짝 짝짝 짝 짝 짝짝 짝짝 짝짝 짝짝 짝짝짝 "
     ]
    }
   ],
   "source": [
    "a= int(input())\n",
    "for i in range(1,a+1):\n",
    "    h=str(i)\n",
    "    c=0\n",
    "    for j in h:\n",
    "        if (j=='3') or (j=='6') or (j=='9'):\n",
    "            c+=1\n",
    "    if c==0:\n",
    "        print(h, end=' ')\n",
    "    elif c!=0:\n",
    "        print(c*'짝', end=' ')"
   ]
  },
  {
   "attachments": {},
   "cell_type": "markdown",
   "metadata": {},
   "source": [
    "### 4. (5점) 솟수의 합 \n",
    "입력된 숫자보다 작은 솟수의 합을 출력하라.예를 들면, 10보다 작은 솟수는 2,3,5,7이므로, 이 숫자의 합인 (2+3+5+7)=17을 출력한다.   \n",
    "(힌트) n이 솟수가 되려면, 2~(n-1)의 수로 나누어 떨어지지 않아야 한다. \n",
    "\n",
    "<실행예1> \n",
    "양의 정수를 입력하시오: 10<enter>  \n",
    "17  \n",
    "<실행예2>       \n",
    "양의 정수를 입력하시오: 20<enter>     \n",
    "77    "
   ]
  },
  {
   "cell_type": "code",
   "execution_count": null,
   "metadata": {},
   "outputs": [],
   "source": []
  },
  {
   "attachments": {},
   "cell_type": "markdown",
   "metadata": {},
   "source": [
    "### 5. (5점) 사전의 이용\n",
    "영어와 한글의 숫자에 다음과 같은 대응관계가 있다고 가정하고, 이를\n",
    "딕셔너리(사전)변수 d에 표현하라. 그리고, 이를 이용하여 다음 문장에서\n",
    "해당하는 영어 단어가 나오면 이를 한글로 변경하여 출력하라.   \n",
    "one = '일', two = '이', three = '삼', four = '사', five = '오'\n",
    "\n",
    "<실행결과>  \n",
    "one + two = three -> 일 + 이 = 삼  \n",
    "five - one = four -> 오 - 일 = 사  "
   ]
  },
  {
   "cell_type": "code",
   "execution_count": null,
   "metadata": {},
   "outputs": [],
   "source": []
  }
 ],
 "metadata": {
  "kernelspec": {
   "display_name": "Python 3",
   "language": "python",
   "name": "python3"
  },
  "language_info": {
   "codemirror_mode": {
    "name": "ipython",
    "version": 3
   },
   "file_extension": ".py",
   "mimetype": "text/x-python",
   "name": "python",
   "nbconvert_exporter": "python",
   "pygments_lexer": "ipython3",
   "version": "3.11.1"
  },
  "orig_nbformat": 4
 },
 "nbformat": 4,
 "nbformat_minor": 2
}
